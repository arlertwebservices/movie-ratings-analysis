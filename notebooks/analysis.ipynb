{
 "cells": [
  {
   "cell_type": "code",
   "execution_count": null,
   "id": "e8c3f761",
   "metadata": {
    "vscode": {
     "languageId": "plaintext"
    }
   },
   "outputs": [],
   "source": [
    "# Movie Ratings Analysis\n",
    "\n",
    "This notebook analyzes the MovieLens dataset to explore movie ratings, genres, tags, and external links."
   ]
  },
  {
   "cell_type": "code",
   "execution_count": null,
   "id": "c012d1e0",
   "metadata": {
    "vscode": {
     "languageId": "plaintext"
    }
   },
   "outputs": [],
   "source": [
    "import pandas as pd\n",
    "import matplotlib.pyplot as plt\n",
    "import seaborn as sns\n",
    "\n",
    "# Set plot style\n",
    "sns.set(style='whitegrid')\n",
    "\n",
    "# Load data\n",
    "movies = pd.read_csv('../data/movies.csv')\n",
    "ratings = pd.read_csv('../data/ratings.csv')\n",
    "links = pd.read_csv('../data/links.csv')\n",
    "tags = pd.read_csv('../data/tags.csv')\n",
    "\n",
    "# Preview data\n",
    "print('Movies:')\n",
    "print(movies.head())\n",
    "print('\\nRatings:')\n",
    "print(ratings.head())\n",
    "print('\\nLinks:')\n",
    "print(links.head())\n",
    "print('\\nTags:')\n",
    "print(tags.head())"
   ]
  },
  {
   "cell_type": "code",
   "execution_count": null,
   "id": "330f6940",
   "metadata": {
    "vscode": {
     "languageId": "plaintext"
    }
   },
   "outputs": [],
   "source": [
    "# Clean data\n",
    "movies['year'] = movies['title'].str.extract(r'\\((\\d{4})\\)')\n",
    "movies['year'] = pd.to_numeric(movies['year'], errors='coerce')\n",
    "movies['genres'] = movies['genres'].str.split('|')\n",
    "\n",
    "# Merge datasets\n",
    "df = pd.merge(ratings, movies, on='movieId', how='left')\n",
    "df = pd.merge(df, links, on='movieId', how='left')\n",
    "print(df.head())"
   ]
  },
  {
   "cell_type": "code",
   "execution_count": null,
   "id": "1fc683c8",
   "metadata": {
    "vscode": {
     "languageId": "plaintext"
    }
   },
   "outputs": [],
   "source": [
    "# Rating distribution\n",
    "plt.figure(figsize=(8, 6))\n",
    "sns.histplot(df['rating'], bins=10, kde=True)\n",
    "plt.title('Distribution of Movie Ratings')\n",
    "plt.xlabel('Rating')\n",
    "plt.ylabel('Count')\n",
    "plt.savefig('../figures/rating_distribution.png')\n",
    "plt.show()"
   ]
  },
  {
   "cell_type": "code",
   "execution_count": null,
   "id": "29184121",
   "metadata": {
    "vscode": {
     "languageId": "plaintext"
    }
   },
   "outputs": [],
   "source": [
    "# Top-rated movies (min 50 ratings)\n",
    "movie_stats = df.groupby('title').agg({'rating': ['mean', 'count']})\n",
    "movie_stats.columns = ['avg_rating', 'num_ratings']\n",
    "top_movies = movie_stats[movie_stats['num_ratings'] >= 50].sort_values('avg_rating', ascending=False).head(10)\n",
    "\n",
    "plt.figure(figsize=(10, 6))\n",
    "sns.barplot(x=top_movies['avg_rating'], y=top_movies.index)\n",
    "plt.title('Top 10 Movies by Average Rating (Min 50 Ratings)')\n",
    "plt.xlabel('Average Rating')\n",
    "plt.ylabel('Movie Title')\n",
    "plt.savefig('../figures/top_movies.png')\n",
    "plt.show()"
   ]
  },
  {
   "cell_type": "code",
   "execution_count": null,
   "id": "c3ce6601",
   "metadata": {
    "vscode": {
     "languageId": "plaintext"
    }
   },
   "outputs": [],
   "source": [
    "# Genre analysis\n",
    "df_exploded = df.explode('genres')\n",
    "genre_stats = df_exploded.groupby('genres')['rating'].mean().sort_values(ascending=False)\n",
    "\n",
    "plt.figure(figsize=(10, 6))\n",
    "sns.barplot(x=genre_stats.values, y=genre_stats.index)\n",
    "plt.title('Average Rating by Genre')\n",
    "plt.xlabel('Average Rating')\n",
    "plt.ylabel('Genre')\n",
    "plt.savefig('../figures/genre_ratings.png')\n",
    "plt.show()"
   ]
  },
  {
   "cell_type": "code",
   "execution_count": null,
   "id": "9a98da68",
   "metadata": {
    "vscode": {
     "languageId": "plaintext"
    }
   },
   "outputs": [],
   "source": [
    "# Tag frequency analysis\n",
    "tag_counts = tags['tag'].value_counts().head(10)\n",
    "\n",
    "plt.figure(figsize=(10, 6))\n",
    "sns.barplot(x=tag_counts.values, y=tag_counts.index)\n",
    "plt.title('Top 10 Most Common Tags')\n",
    "plt.xlabel('Count')\n",
    "plt.ylabel('Tag')\n",
    "plt.savefig('../figures/top_tags.png')\n",
    "plt.show()"
   ]
  },
  {
   "cell_type": "code",
   "execution_count": null,
   "id": "927c08e7",
   "metadata": {
    "vscode": {
     "languageId": "plaintext"
    }
   },
   "outputs": [],
   "source": [
    "# Tags for top-rated movies\n",
    "top_movie_titles = top_movies.index\n",
    "top_movie_ids = movies[movies['title'].isin(top_movie_titles)]['movieId']\n",
    "top_movie_tags = tags[tags['movieId'].isin(top_movie_ids)][['movieId', 'tag']]\n",
    "top_movie_tags = pd.merge(top_movie_tags, movies[['movieId', 'title']], on='movieId')\n",
    "tag_summary = top_movie_tags.groupby(['title', 'tag']).size().reset_index(name='count')\n",
    "top_tags_per_movie = tag_summary.groupby('title').apply(lambda x: x.nlargest(3, 'count')).reset_index(drop=True)\n",
    "\n",
    "print('Top Tags for Top-Rated Movies:')\n",
    "print(top_tags_per_movie)"
   ]
  },
  {
   "cell_type": "code",
   "execution_count": null,
   "id": "49f42b90",
   "metadata": {
    "vscode": {
     "languageId": "plaintext"
    }
   },
   "outputs": [],
   "source": [
    "from sklearn.feature_extraction.text import TfidfVectorizer\n",
    "from sklearn.cluster import KMeans\n",
    "from sklearn.decomposition import PCA\n",
    "import numpy as np\n",
    "\n",
    "# Create tag profiles for each movie\n",
    "tag_profiles = tags.groupby('movieId')['tag'].apply(lambda x: ' '.join(x.str.lower())).reset_index()\n",
    "tag_profiles = pd.merge(tag_profiles, movies[['movieId', 'title']], on='movieId', how='left')\n",
    "\n",
    "# Convert tags to TF-IDF features\n",
    "vectorizer = TfidfVectorizer(max_features=100, stop_words='english')\n",
    "tfidf_matrix = vectorizer.fit_transform(tag_profiles['tag'])\n",
    "\n",
    "# Apply K-means clustering\n",
    "n_clusters = 5\n",
    "kmeans = KMeans(n_clusters=n_clusters, random_state=42)\n",
    "tag_profiles['cluster'] = kmeans.fit_predict(tfidf_matrix)\n",
    "\n",
    "# Reduce dimensions for visualization\n",
    "pca = PCA(n_components=2)\n",
    "pca_result = pca.fit_transform(tfidf_matrix.toarray())\n",
    "tag_profiles['pca1'] = pca_result[:, 0]\n",
    "tag_profiles['pca2'] = pca_result[:, 1]\n",
    "\n",
    "# Plot clusters\n",
    "plt.figure(figsize=(10, 6))\n",
    "sns.scatterplot(x='pca1', y='pca2', hue='cluster', palette='deep', data=tag_profiles, legend='full')\n",
    "plt.title('Movie Clusters Based on Tags (PCA)')\n",
    "plt.xlabel('PCA Component 1')\n",
    "plt.ylabel('PCA Component 2')\n",
    "plt.savefig('../figures/tag_clusters.png')\n",
    "plt.show()\n",
    "\n",
    "# Display sample movies per cluster\n",
    "for cluster in range(n_clusters):\n",
    "    print(f'\\nCluster {cluster}:')\n",
    "    sample_movies = tag_profiles[tag_profiles['cluster'] == cluster]['title'].head(5)\n",
    "    print(sample_movies.tolist())"
   ]
  }
 ],
 "metadata": {
  "language_info": {
   "name": "python"
  }
 },
 "nbformat": 4,
 "nbformat_minor": 5
}
